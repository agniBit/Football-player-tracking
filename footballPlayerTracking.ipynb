{
  "nbformat": 4,
  "nbformat_minor": 0,
  "metadata": {
    "colab": {
      "name": "footballPlayerTracking.ipynb",
      "provenance": [],
      "collapsed_sections": []
    },
    "kernelspec": {
      "name": "python3",
      "display_name": "Python 3"
    },
    "language_info": {
      "name": "python"
    },
    "accelerator": "GPU"
  },
  "cells": [
    {
      "cell_type": "code",
      "metadata": {
        "id": "mruro729IUqC"
      },
      "source": [
        "import numpy as np\n",
        "import cv2\n",
        "import torch\n",
        "from torch import nn, optim\n",
        "from torch.autograd import Variable\n",
        "from torchvision import transforms\n",
        "from google.colab.patches import cv2_imshow\n",
        "from PIL import Image"
      ],
      "execution_count": null,
      "outputs": []
    },
    {
      "cell_type": "code",
      "metadata": {
        "colab": {
          "base_uri": "https://localhost:8080/"
        },
        "id": "FjgIfB7EZfcM",
        "outputId": "be66f9e8-db70-48f0-89f6-04ceccdea34f"
      },
      "source": [
        "%cd '/content/drive/MyDrive/Colab Notebooks/football'"
      ],
      "execution_count": null,
      "outputs": [
        {
          "output_type": "stream",
          "text": [
            "/content/drive/MyDrive/Colab Notebooks/football\n"
          ],
          "name": "stdout"
        }
      ]
    },
    {
      "cell_type": "code",
      "metadata": {
        "id": "FLTFy0T0ZVTX"
      },
      "source": [
        "# download pretrained yolo weights\n",
        "# !wget https://pjreddie.com/media/files/yolov3.weights"
      ],
      "execution_count": null,
      "outputs": []
    },
    {
      "cell_type": "code",
      "metadata": {
        "id": "jqXDZwazaDv3"
      },
      "source": [
        "def get_output_layers(net):\n",
        "    layer_names = net.getLayerNames()\n",
        "    output_layers = [layer_names[i[0] - 1] for i in net.getUnconnectedOutLayers()]\n",
        "    return output_layers\n",
        "\n",
        "\n",
        "def draw_prediction(img, team, confidence, x, y, x_plus_w, y_plus_h):\n",
        "    if team==0:\n",
        "      label = 'Referry'\n",
        "      color = (255, 215, 0)\n",
        "    elif team==1:\n",
        "      label = 'Team 1'\n",
        "      color = (0, 0, 255)\n",
        "    else:\n",
        "      label = 'Team 2'\n",
        "      color = (255,0,0)\n",
        "    cv2.rectangle(img, (x,y), (x_plus_w,y_plus_h), color, 2)\n",
        "    cv2.putText(img, label, (x-10,y-10), cv2.FONT_HERSHEY_SIMPLEX, 0.5, color, 2)\n",
        "\n",
        "classes = None\n",
        "with open('./yolov3.txt', 'r') as f:\n",
        "    classes = [line.strip() for line in f.readlines()]"
      ],
      "execution_count": null,
      "outputs": []
    },
    {
      "cell_type": "code",
      "metadata": {
        "id": "x_evmzbdbPz7"
      },
      "source": [
        "net = cv2.dnn.readNet('./yolov3.weights', './yolov3.cfg')"
      ],
      "execution_count": null,
      "outputs": []
    },
    {
      "cell_type": "code",
      "metadata": {
        "id": "mMqru6ahoY5K"
      },
      "source": [
        "import math\n",
        "def calculate_avg_color(image):\n",
        "  shape = image.shape\n",
        "  print(shape)\n",
        "  avg_color = [0,0,0]\n",
        "  num_pix = 0\n",
        "  for x in range(shape[0]):\n",
        "    for y in range(shape[1]):\n",
        "      r,b,g = image[x][y] \n",
        "      if not (r <5 and b <5 and g<5):\n",
        "        avg_color+=image[x][y]\n",
        "        num_pix += 1\n",
        "  avg_color = avg_color/num_pix\n",
        "  print('dist',math.sqrt(avg_color[0]**2+avg_color[1]**2+avg_color[2]**2)/3)\n",
        "  return avg_color"
      ],
      "execution_count": null,
      "outputs": []
    },
    {
      "cell_type": "code",
      "metadata": {
        "colab": {
          "base_uri": "https://localhost:8080/"
        },
        "id": "4wd7JRgOFkM_",
        "outputId": "2915c808-7703-42a5-d3bd-407806834f86"
      },
      "source": [
        "# defining the model architecture\n",
        "class Net(nn.Module):   \n",
        "  def __init__(self):\n",
        "      super(Net, self).__init__()\n",
        "\n",
        "      self.cnn_layers = nn.Sequential(\n",
        "          # Defining a 2D convolution layer\n",
        "          nn.Conv2d(3, 4, kernel_size=3, stride=1, padding=1),\n",
        "          nn.BatchNorm2d(4),\n",
        "          nn.ReLU(inplace=True),\n",
        "          nn.MaxPool2d(kernel_size=2, stride=2),\n",
        "          # Defining another 2D convolution layer\n",
        "          nn.Conv2d(4, 4, kernel_size=3, stride=1, padding=1),\n",
        "          nn.BatchNorm2d(4),\n",
        "          nn.ReLU(inplace=True),\n",
        "          nn.MaxPool2d(kernel_size=2, stride=2),\n",
        "      )\n",
        "\n",
        "      self.linear_layers = nn.Sequential(\n",
        "          nn.Linear(4 * 8 * 8, 3)\n",
        "      )\n",
        "\n",
        "  # Defining the forward pass    \n",
        "  def forward(self, x):\n",
        "      x = self.cnn_layers(x)\n",
        "      x = x.view(x.size(0), -1)\n",
        "      x = self.linear_layers(x)\n",
        "      return x\n",
        "\n",
        "model = Net()\n",
        "# load pretrained model\n",
        "model.load_state_dict(torch.load('./teamCategoryModel.pth'))\n",
        "model.eval()\n",
        "model.cuda()"
      ],
      "execution_count": null,
      "outputs": [
        {
          "output_type": "execute_result",
          "data": {
            "text/plain": [
              "Net(\n",
              "  (cnn_layers): Sequential(\n",
              "    (0): Conv2d(3, 4, kernel_size=(3, 3), stride=(1, 1), padding=(1, 1))\n",
              "    (1): BatchNorm2d(4, eps=1e-05, momentum=0.1, affine=True, track_running_stats=True)\n",
              "    (2): ReLU(inplace=True)\n",
              "    (3): MaxPool2d(kernel_size=2, stride=2, padding=0, dilation=1, ceil_mode=False)\n",
              "    (4): Conv2d(4, 4, kernel_size=(3, 3), stride=(1, 1), padding=(1, 1))\n",
              "    (5): BatchNorm2d(4, eps=1e-05, momentum=0.1, affine=True, track_running_stats=True)\n",
              "    (6): ReLU(inplace=True)\n",
              "    (7): MaxPool2d(kernel_size=2, stride=2, padding=0, dilation=1, ceil_mode=False)\n",
              "  )\n",
              "  (linear_layers): Sequential(\n",
              "    (0): Linear(in_features=256, out_features=3, bias=True)\n",
              "  )\n",
              ")"
            ]
          },
          "metadata": {
            "tags": []
          },
          "execution_count": 47
        }
      ]
    },
    {
      "cell_type": "code",
      "metadata": {
        "id": "BMCWKzZrGfA_"
      },
      "source": [
        "# transformations to be applied on images\n",
        "image_transform = transforms.Compose([\n",
        "                                transforms.Resize((32,32)),\n",
        "                                transforms.ToTensor(),\n",
        "                                transforms.Normalize(mean=[0.485, 0.456, 0.406], std=[0.229, 0.224, 0.225]),\n",
        "                              ])\n",
        "\n",
        "def predict_image(image):\n",
        "    # You may need to convert the color.\n",
        "    image = cv2.cvtColor(image, cv2.COLOR_BGR2RGB)\n",
        "    image = Image.fromarray(image)\n",
        "    image_tensor = image_transform(image).float()\n",
        "    image_tensor = image_tensor.unsqueeze_(0)\n",
        "    input = Variable(image_tensor)\n",
        "    input = input.cuda()\n",
        "    output = model(input)\n",
        "    index = output.data.cpu().numpy().argmax()\n",
        "    return index"
      ],
      "execution_count": null,
      "outputs": []
    },
    {
      "cell_type": "code",
      "metadata": {
        "colab": {
          "base_uri": "https://localhost:8080/"
        },
        "id": "2fiVSzYkbaP4",
        "outputId": "2b8dd43b-1605-4b50-a742-437215ee8f71"
      },
      "source": [
        "cap = cv2.VideoCapture('./input_video.mp4')\n",
        "Width = int(cap.get(3))\n",
        "Height = int(cap.get(4))\n",
        "out_vid = cv2.VideoWriter('./final_output.avi',cv2.VideoWriter_fourcc('M','J','P','G'), cap.get(cv2.CAP_PROP_FPS), (Width,Height))\n",
        "if (cap.isOpened()== False):\n",
        "  print(\"Error opening video stream or file\")\n",
        "scale = 0.00392\n",
        "frame_count = 0\n",
        "total_frames = int(cap.get(cv2.CAP_PROP_FRAME_COUNT))\n",
        "# Read until video is completed\n",
        "while(cap.isOpened()):\n",
        "    # Capture frame-by-frame\n",
        "    ret, image = cap.read()\n",
        "    if not ret:\n",
        "      break\n",
        "    blob = cv2.dnn.blobFromImage(image, scale, (416,416), (0,0,0), True, crop=False)\n",
        "    net.setInput(blob)\n",
        "    outs = net.forward(get_output_layers(net))\n",
        "    class_ids = []\n",
        "    confidences = []\n",
        "    boxes = []\n",
        "    conf_threshold = 0.5\n",
        "    nms_threshold = 0.4\n",
        "    for out in outs:\n",
        "        for detection in out:\n",
        "            scores = detection[5:]\n",
        "            class_id = np.argmax(scores)\n",
        "            if class_id == 0:\n",
        "                confidence = scores[class_id]\n",
        "                if confidence > 0.5:\n",
        "                    center_x = int(detection[0] * Width)\n",
        "                    center_y = int(detection[1] * Height)\n",
        "                    w = int(detection[2] * Width)\n",
        "                    h = int(detection[3] * Height)\n",
        "                    x = center_x - w / 2\n",
        "                    y = center_y - h / 2\n",
        "                    class_ids.append(class_id)\n",
        "                    confidences.append(float(confidence))\n",
        "                    boxes.append([x, y, w, h])\n",
        "        indices = cv2.dnn.NMSBoxes(boxes, confidences, conf_threshold, nms_threshold)\n",
        "    player_num = 0\n",
        "    for i in indices:\n",
        "        player_num+=1\n",
        "        i = i[0]\n",
        "        box = boxes[i]\n",
        "        x = max(0,box[0])\n",
        "        y = max(0,box[1])\n",
        "        w = box[2]\n",
        "        h = box[3]\n",
        "        detected_player = image[round(y):round(y+h), round(x):round(x+w)]\n",
        "        if w>5 and h>5 and x>=0 and y>=0:\n",
        "            team = predict_image(detected_player.copy())\n",
        "            draw_prediction(image, team, confidences[i], round(x), round(y), round(x+w), round(y+h))\n",
        "        else:\n",
        "          print(x,y,w,h)\n",
        "    # # show ouput frame by frame\n",
        "    # cv2_imshow(image)\n",
        "    out_vid.write(image)\n",
        "    if frame_count%10==0:\n",
        "        print(f'frames done {frame_count}/{total_frames}')\n",
        "    frame_count+=1\n",
        "\n",
        "cap.release()\n",
        "out_vid.release()"
      ],
      "execution_count": null,
      "outputs": [
        {
          "output_type": "stream",
          "text": [
            "frames done 0/631\n",
            "frames done 10/631\n",
            "frames done 20/631\n",
            "frames done 30/631\n",
            "frames done 40/631\n",
            "frames done 50/631\n",
            "frames done 60/631\n",
            "frames done 70/631\n",
            "frames done 80/631\n",
            "frames done 90/631\n",
            "frames done 100/631\n",
            "frames done 110/631\n",
            "frames done 120/631\n",
            "frames done 130/631\n",
            "frames done 140/631\n",
            "frames done 150/631\n",
            "frames done 160/631\n",
            "frames done 170/631\n",
            "frames done 180/631\n",
            "frames done 190/631\n",
            "frames done 200/631\n",
            "frames done 210/631\n",
            "frames done 220/631\n",
            "frames done 230/631\n",
            "frames done 240/631\n",
            "frames done 250/631\n",
            "frames done 260/631\n",
            "frames done 270/631\n",
            "frames done 280/631\n",
            "frames done 290/631\n",
            "frames done 300/631\n",
            "frames done 310/631\n",
            "frames done 320/631\n",
            "frames done 330/631\n",
            "frames done 340/631\n",
            "frames done 350/631\n",
            "frames done 360/631\n",
            "frames done 370/631\n",
            "frames done 380/631\n",
            "frames done 390/631\n",
            "frames done 400/631\n",
            "frames done 410/631\n",
            "frames done 420/631\n",
            "frames done 430/631\n",
            "frames done 440/631\n",
            "frames done 450/631\n",
            "frames done 460/631\n",
            "frames done 470/631\n",
            "frames done 480/631\n",
            "frames done 490/631\n",
            "frames done 500/631\n",
            "frames done 510/631\n",
            "frames done 520/631\n",
            "frames done 530/631\n",
            "frames done 540/631\n",
            "frames done 550/631\n",
            "frames done 560/631\n",
            "frames done 570/631\n",
            "frames done 580/631\n",
            "frames done 590/631\n",
            "frames done 600/631\n",
            "frames done 610/631\n",
            "frames done 620/631\n",
            "frames done 630/631\n"
          ],
          "name": "stdout"
        }
      ]
    },
    {
      "cell_type": "code",
      "metadata": {
        "id": "5LiNlPaJLtW3"
      },
      "source": [
        ""
      ],
      "execution_count": null,
      "outputs": []
    }
  ]
}
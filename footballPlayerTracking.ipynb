{
 "cells": [
  {
   "cell_type": "code",
   "execution_count": 11,
   "metadata": {
    "id": "mruro729IUqC"
   },
   "outputs": [],
   "source": [
    "import os\n",
    "import numpy as np\n",
    "import cv2\n",
    "import torch\n",
    "from torch import nn, optim\n",
    "from torch.autograd import Variable\n",
    "from torchvision import transforms\n",
    "import keras\n",
    "import numpy as np\n",
    "from keras import backend as K\n",
    "from keras.models import model_from_json\n",
    "import json\n",
    "from google.colab.patches import cv2_imshow\n",
    "from PIL import Image"
   ]
  },
  {
   "cell_type": "code",
   "execution_count": 12,
   "metadata": {
    "colab": {
     "base_uri": "https://localhost:8080/"
    },
    "id": "FjgIfB7EZfcM",
    "outputId": "c1cdc5de-2448-41e1-95fc-32ffb1176f5f"
   },
   "outputs": [
    {
     "name": "stdout",
     "output_type": "stream",
     "text": [
      "/content/drive/MyDrive/Colab Notebooks/football\n"
     ]
    }
   ],
   "source": [
    "%cd '/content/drive/MyDrive/Colab Notebooks/football'"
   ]
  },
  {
   "cell_type": "code",
   "execution_count": 13,
   "metadata": {
    "id": "7opj1L5NtEjp"
   },
   "outputs": [],
   "source": [
    "# %cd /content\n",
    "# !mkdir croped_image\n",
    "!cp '/content/drive/MyDrive/Colab Notebooks/football/y2mate.com - Real Madrid vs FC Barcelona 4K50fps 21112015 04 La Liga_1080pFHR_1.mp4' '/content'"
   ]
  },
  {
   "cell_type": "code",
   "execution_count": 14,
   "metadata": {
    "id": "NBPPrv4csma6"
   },
   "outputs": [],
   "source": [
    "# %cd /content\n",
    "# !mkdir croped_image\n",
    "# cap = cv2.VideoCapture('/content/y2mate.com - Real Madrid vs FC Barcelona 4K50fps 21112015 04 La Liga_1080pFHR_1.mp4')\n",
    "# Width = int(cap.get(3))\n",
    "# Height = int(cap.get(4))\n",
    "# # out_vid = cv2.VideoWriter('./final_output.avi',cv2.VideoWriter_fourcc('M','J','P','G'), cap.get(cv2.CAP_PROP_FPS), (Width,Height))\n",
    "# if (cap.isOpened()== False):\n",
    "#   print(\"Error opening video stream or file\")\n",
    "# scale = 0.00392\n",
    "# frame_count = 0\n",
    "# total_frames = int(cap.get(cv2.CAP_PROP_FRAME_COUNT))\n",
    "# # Read until video is completed\n",
    "# while(cap.isOpened()):\n",
    "#     # Capture frame-by-frame\n",
    "#     ret, image = cap.read()\n",
    "#     if not ret:\n",
    "#       break\n",
    "#     if frame_count%10==0:\n",
    "#         blob = cv2.dnn.blobFromImage(image, scale, (416,416), (0,0,0), True, crop=False)\n",
    "#         net.setInput(blob)\n",
    "#         outs = net.forward(get_output_layers(net))\n",
    "#         class_ids = []\n",
    "#         confidences = []\n",
    "#         boxes = []\n",
    "#         conf_threshold = 0.5\n",
    "#         nms_threshold = 0.4\n",
    "#         for out in outs:\n",
    "#             for detection in out:\n",
    "#                 scores = detection[5:]\n",
    "#                 class_id = np.argmax(scores)\n",
    "#                 if class_id == 0:\n",
    "#                     confidence = scores[class_id]\n",
    "#                     if confidence > 0.5:\n",
    "#                         center_x = int(detection[0] * Width)\n",
    "#                         center_y = int(detection[1] * Height)\n",
    "#                         w = int(detection[2] * Width)\n",
    "#                         h = int(detection[3] * Height)\n",
    "#                         x = center_x - w / 2\n",
    "#                         y = center_y - h / 2\n",
    "#                         class_ids.append(class_id)\n",
    "#                         confidences.append(float(confidence))\n",
    "#                         boxes.append([x, y, w, h])\n",
    "#             indices = cv2.dnn.NMSBoxes(boxes, confidences, conf_threshold, nms_threshold)\n",
    "#         player_num = 0\n",
    "#         for i in indices:\n",
    "#             if player_num%3==0:\n",
    "#                 player_num+=1\n",
    "#                 i = i[0]\n",
    "#                 box = boxes[i]\n",
    "#                 x = max(0,box[0])\n",
    "#                 y = max(0,box[1])\n",
    "#                 w = box[2]\n",
    "#                 h = box[3]\n",
    "#                 detected_player = image[round(y):round(y+h), round(x):round(x+w)]\n",
    "#                 cv2.imwrite(f'croped_image/frame_{frame_count}_player_{player_num}.jpg',detected_player)\n",
    "#             player_num+=1\n",
    "#             # if w>5 and h>5 and x>=0 and y>=0:\n",
    "#             #     team = predict_image(detected_player.copy())\n",
    "#             #     draw_prediction(image, team, confidences[i], round(x), round(y), round(x+w), round(y+h))\n",
    "#             # else:\n",
    "#             #   print(x,y,w,h)\n",
    "#         # # show ouput frame by frame\n",
    "#         # cv2_imshow(image)\n",
    "#         # out_vid.write(image)\n",
    "#     if frame_count%10==0:\n",
    "#         print(f'frames done {frame_count}/{total_frames}')\n",
    "#     frame_count+=1\n",
    "\n",
    "# cap.release()\n",
    "# # out_vid.release()"
   ]
  },
  {
   "cell_type": "code",
   "execution_count": 15,
   "metadata": {
    "id": "W-fthu-2u-M7"
   },
   "outputs": [],
   "source": [
    "# !ls\n",
    "# !zip -r dataset2.zip croped_image/"
   ]
  },
  {
   "cell_type": "code",
   "execution_count": 16,
   "metadata": {
    "colab": {
     "base_uri": "https://localhost:8080/"
    },
    "id": "RwOL1lXD2qyH",
    "outputId": "8e29969f-8e76-40ff-a39d-eabe30baadf1"
   },
   "outputs": [
    {
     "name": "stdout",
     "output_type": "stream",
     "text": [
      "bar  crowd  ref  rma\n"
     ]
    }
   ],
   "source": [
    "!ls '/content/drive/MyDrive/Colab Notebooks/football/train'"
   ]
  },
  {
   "cell_type": "code",
   "execution_count": 17,
   "metadata": {
    "colab": {
     "base_uri": "https://localhost:8080/"
    },
    "id": "zLgi1mpX2ubM",
    "outputId": "d58cacb7-df3d-46c8-fe80-302d13d521cd"
   },
   "outputs": [
    {
     "name": "stdout",
     "output_type": "stream",
     "text": [
      "['bar', 'crowd', 'ref', 'rma']\n"
     ]
    }
   ],
   "source": [
    "classes = ['bar','crowd','ref','rma']\n",
    "classes.sort()\n",
    "print(classes)"
   ]
  },
  {
   "cell_type": "code",
   "execution_count": 18,
   "metadata": {
    "id": "FLTFy0T0ZVTX"
   },
   "outputs": [],
   "source": [
    "# download pretrained yolo weights\n",
    "# !wget https://pjreddie.com/media/files/yolov3.weights"
   ]
  },
  {
   "cell_type": "code",
   "execution_count": 19,
   "metadata": {
    "id": "r5C9_ncW5EVF"
   },
   "outputs": [],
   "source": [
    "# def validInt(num):\n",
    "#   try:\n",
    "#     int(num)\n",
    "#     return True\n",
    "#   except:\n",
    "#     return False"
   ]
  },
  {
   "cell_type": "code",
   "execution_count": 20,
   "metadata": {
    "id": "jqXDZwazaDv3"
   },
   "outputs": [],
   "source": [
    "classes = ['FCB', 'crowd', 'ref', 'RMA']\n",
    "\n",
    "def get_output_layers(net):\n",
    "    layer_names = net.getLayerNames()\n",
    "    output_layers = [layer_names[i[0] - 1] for i in net.getUnconnectedOutLayers()]\n",
    "    return output_layers\n",
    "\n",
    "\n",
    "def draw_prediction(img, id, confidence, x, y, x_plus_w, y_plus_h, player_id=None):\n",
    "    if id==0:\n",
    "      label = 'FCB'\n",
    "      color = (0, 0, 255)\n",
    "    elif id==1:\n",
    "      return\n",
    "    elif id == 2:\n",
    "      label = 'ref'\n",
    "      color = (255,215,0)\n",
    "    elif id == 3:\n",
    "      label = 'RMA'\n",
    "      color = (255,255,255)\n",
    "    else:\n",
    "      label = 'ball'\n",
    "      color = (0,0,0)\n",
    "    if player_if is not None and validInt(player_num):\n",
    "      label += f' {player_num}'\n",
    "    cv2.rectangle(img, (x,y), (x_plus_w,y_plus_h), color, 2)\n",
    "    cv2.putText(img, label, (x-10,y-10), cv2.FONT_HERSHEY_SIMPLEX, 0.5, color, 2)"
   ]
  },
  {
   "cell_type": "code",
   "execution_count": 21,
   "metadata": {
    "colab": {
     "base_uri": "https://localhost:8080/"
    },
    "id": "x_evmzbdbPz7",
    "outputId": "2158fddc-0ae4-405b-d74a-1bfec4c15406"
   },
   "outputs": [
    {
     "name": "stdout",
     "output_type": "stream",
     "text": [
      "/content/drive/MyDrive/Colab Notebooks/football\n"
     ]
    }
   ],
   "source": [
    "%cd '/content/drive/MyDrive/Colab Notebooks/football'\n",
    "net = cv2.dnn.readNet('./yolov3.weights', './yolov3.cfg')"
   ]
  },
  {
   "cell_type": "code",
   "execution_count": 22,
   "metadata": {
    "id": "mMqru6ahoY5K"
   },
   "outputs": [],
   "source": [
    "import math\n",
    "def calculate_avg_color(image):\n",
    "  shape = image.shape\n",
    "  print(shape)\n",
    "  avg_color = [0,0,0]\n",
    "  num_pix = 0\n",
    "  for x in range(shape[0]):\n",
    "    for y in range(shape[1]):\n",
    "      r,b,g = image[x][y] \n",
    "      if not (r <5 and b <5 and g<5):\n",
    "        avg_color+=image[x][y]\n",
    "        num_pix += 1\n",
    "  avg_color = avg_color/num_pix\n",
    "  print('dist',math.sqrt(avg_color[0]**2+avg_color[1]**2+avg_color[2]**2)/3)\n",
    "  return avg_color"
   ]
  },
  {
   "cell_type": "code",
   "execution_count": 29,
   "metadata": {
    "colab": {
     "base_uri": "https://localhost:8080/"
    },
    "id": "4wd7JRgOFkM_",
    "outputId": "a2ce1469-5797-4dae-874b-6e1dca652363"
   },
   "outputs": [
    {
     "name": "stdout",
     "output_type": "stream",
     "text": [
      "/content/drive/MyDrive/Colab Notebooks/football\n"
     ]
    },
    {
     "data": {
      "text/plain": [
       "Net(\n",
       "  (cnn_layers): Sequential(\n",
       "    (0): Conv2d(3, 4, kernel_size=(3, 3), stride=(1, 1), padding=(1, 1))\n",
       "    (1): BatchNorm2d(4, eps=1e-05, momentum=0.1, affine=True, track_running_stats=True)\n",
       "    (2): ReLU(inplace=True)\n",
       "    (3): MaxPool2d(kernel_size=2, stride=2, padding=0, dilation=1, ceil_mode=False)\n",
       "    (4): Conv2d(4, 4, kernel_size=(3, 3), stride=(1, 1), padding=(1, 1))\n",
       "    (5): BatchNorm2d(4, eps=1e-05, momentum=0.1, affine=True, track_running_stats=True)\n",
       "    (6): ReLU(inplace=True)\n",
       "    (7): MaxPool2d(kernel_size=2, stride=2, padding=0, dilation=1, ceil_mode=False)\n",
       "  )\n",
       "  (linear_layers): Sequential(\n",
       "    (0): Linear(in_features=256, out_features=4, bias=True)\n",
       "  )\n",
       ")"
      ]
     },
     "execution_count": 29,
     "metadata": {
      "tags": []
     },
     "output_type": "execute_result"
    }
   ],
   "source": [
    "%cd '/content/drive/MyDrive/Colab Notebooks/football'\n",
    "# defining the model architecture\n",
    "class Net(nn.Module):   \n",
    "  def __init__(self):\n",
    "      super(Net, self).__init__()\n",
    "\n",
    "      self.cnn_layers = nn.Sequential(\n",
    "          # Defining a 2D convolution layer\n",
    "          nn.Conv2d(3, 4, kernel_size=3, stride=1, padding=1),\n",
    "          nn.BatchNorm2d(4),\n",
    "          nn.ReLU(inplace=True),\n",
    "          nn.MaxPool2d(kernel_size=2, stride=2),\n",
    "          # Defining another 2D convolution layer\n",
    "          nn.Conv2d(4, 4, kernel_size=3, stride=1, padding=1),\n",
    "          nn.BatchNorm2d(4),\n",
    "          nn.ReLU(inplace=True),\n",
    "          nn.MaxPool2d(kernel_size=2, stride=2),\n",
    "      )\n",
    "\n",
    "      self.linear_layers = nn.Sequential(\n",
    "          nn.Linear(4 * 8 * 8, 4)\n",
    "      )\n",
    "\n",
    "  # Defining the forward pass    \n",
    "  def forward(self, x):\n",
    "      x = self.cnn_layers(x)\n",
    "      x = x.view(x.size(0), -1)\n",
    "      x = self.linear_layers(x)\n",
    "      return x\n",
    "\n",
    "model = Net()\n",
    "# load pretrained model\n",
    "model.load_state_dict(torch.load('./teamCategoryModel2.pth'))\n",
    "model.eval()\n",
    "model.cuda()"
   ]
  },
  {
   "cell_type": "code",
   "execution_count": 30,
   "metadata": {
    "id": "BMCWKzZrGfA_"
   },
   "outputs": [],
   "source": [
    "# transformations to be applied on images\n",
    "image_transform = transforms.Compose([\n",
    "                                transforms.Resize((32,32)),\n",
    "                                transforms.ToTensor(),\n",
    "                                transforms.Normalize(mean=[0.485, 0.456, 0.406], std=[0.229, 0.224, 0.225]),\n",
    "                              ])\n",
    "\n",
    "def predict_image(image):\n",
    "    # You may need to convert the color.\n",
    "    image = cv2.cvtColor(image, cv2.COLOR_BGR2RGB)\n",
    "    image = Image.fromarray(image)\n",
    "    image_tensor = image_transform(image).float()\n",
    "    image_tensor = image_tensor.unsqueeze_(0)\n",
    "    input = Variable(image_tensor)\n",
    "    input = input.cuda()\n",
    "    output = model(input)\n",
    "    index = output.data.cpu().numpy().argmax()\n",
    "    return index"
   ]
  },
  {
   "cell_type": "code",
   "execution_count": 31,
   "metadata": {
    "id": "14KNc1UQanqG"
   },
   "outputs": [],
   "source": [
    "def decode_nn_res(res_vec, num_digits, num_classes, dummy_class):\n",
    "    digits = np.array_split(res_vec, num_digits)\n",
    "    actual_digits = np.argmax(digits,1)+1\n",
    "    res = actual_digits[actual_digits!=dummy_class]\n",
    "    return actual_digits, ''.join(map(str, res))\n",
    "\n",
    "def process_labels(labels,max_digits):\n",
    "    tmp = []\n",
    "    for label in labels:\n",
    "        vec = [int(float(x)) for x in label.split('_')]\n",
    "        if len(vec) < max_digits:\n",
    "            vec = vec + [11]*(max_digits-len(vec))\n",
    "        tmp.append(vec)\n",
    "    labels = np.array(tmp)\n",
    "    tmp = []\n",
    "    num_classes = 11\n",
    "    for target in labels[:,...]:\n",
    "        y = np.zeros((len(target), num_classes))\n",
    "        y[np.arange(target.shape[0]), target-1] = 1\n",
    "        tmp.append(y)\n",
    "    labels = np.array(tmp)   \n",
    "    return labels"
   ]
  },
  {
   "cell_type": "code",
   "execution_count": 32,
   "metadata": {
    "id": "54xP-IE_aPiq"
   },
   "outputs": [],
   "source": [
    "# load model for player number detection\n",
    "base_path = '/content/drive/MyDrive/Colab Notebooks/football/model_weights'\n",
    "#load digit detection model\n",
    "with open('./model_weights/digit_detection_cnn_layers.json','r') as json_data:\n",
    "    model_dict = json.load(json_data)\n",
    "\n",
    "detect_model = model_from_json(json.dumps(model_dict))\n",
    "detect_model.load_weights('./model_weights/digit_detection_cnn_weights.h5')\n",
    "\n",
    "#load digit classification model\n",
    "with open('./model_weights/digit_classification_cnn_layers.json','r') as json_data:\n",
    "    model_dict = json.load(json_data)\n",
    "\n",
    "classification_model = keras.models.model_from_json(json.dumps(model_dict))\n",
    "classification_model.load_weights(os.path.join('./model_weights/digit_classification_cnn_weights.h5'))"
   ]
  },
  {
   "cell_type": "code",
   "execution_count": 33,
   "metadata": {
    "id": "4klNo9NHasZt"
   },
   "outputs": [],
   "source": [
    "def find_box_and_predict_digit(input_img):\n",
    "    num_digits = 4\n",
    "    input_img_shape = input_img.shape\n",
    "    train_img_size = (64,64)\n",
    "    proc_input_img = np.array(cv2.normalize(cv2.cvtColor(cv2.resize(input_img,train_img_size), cv2.COLOR_BGR2GRAY).astype(np.float64), 0, 1, cv2.NORM_MINMAX)[...,np.newaxis])[np.newaxis,...]\n",
    "    box_preds = detect_model.predict(proc_input_img)\n",
    "    scaled_box = box_preds[0].copy()\n",
    "    scaled_box[0] = scaled_box[0]/float(train_img_size[0]/input_img_shape[0])\n",
    "    scaled_box[1] = scaled_box[1]/float(train_img_size[1]/input_img_shape[1])\n",
    "    scaled_box[2] = scaled_box[2]/float(train_img_size[1]/input_img_shape[1])\n",
    "    scaled_box[3] = scaled_box[3]/float(train_img_size[0]/input_img_shape[0])\n",
    "    start_row = np.clip(int(scaled_box[0]),1,input_img_shape[0])\n",
    "    end_row = np.clip(int(scaled_box[0]+scaled_box[3]),1,input_img_shape[0])\n",
    "    start_col = np.clip(int(scaled_box[1]),1,input_img_shape[1])\n",
    "    end_col = np.clip(int(scaled_box[1]+scaled_box[2]),1,input_img_shape[1])\n",
    "    #need better logic to handle cases where the box is too thin\n",
    "    if start_col-end_col==0:\n",
    "        start_col -=1\n",
    "    if start_row-end_row==0:\n",
    "        start_row -=1\n",
    "    #store only the cutouts\n",
    "    digits_only = input_img[start_row:end_row,start_col:end_col,...]\n",
    "    digits_only_resized = cv2.resize(digits_only,train_img_size)\n",
    "    orig_img_box = input_img.copy()\n",
    "    # cv2.rectangle(orig_img_box,(start_col,start_row),(end_col,end_row),(0,255,0),1)\n",
    "    # plt.imshow(orig_img_box)\n",
    "    # plt.show()\n",
    "    digit_pred = classification_model.predict(np.array(digits_only_resized)[np.newaxis,...])\n",
    "    score = np.concatenate(digit_pred, axis=1)\n",
    "    pred_labels_encoded = np.zeros(score.shape, dtype=\"int32\")\n",
    "    pred_labels_encoded[score > 0.5] = 1\n",
    "    pred_labels_decoded = np.array([decode_nn_res(x,num_digits,11,11) for x in pred_labels_encoded])\n",
    "    pred_labels_decoded_digits = np.array(pred_labels_decoded[:,1])\n",
    "    #pred_labels_decoded_OHE_digits = np.array(pred_labels_decoded[:,0])\n",
    "    final_digit = pred_labels_decoded_digits[0]\n",
    "    print('Predicted digit:',final_digit)\n",
    "    return final_digit"
   ]
  },
  {
   "cell_type": "code",
   "execution_count": null,
   "metadata": {
    "id": "2fiVSzYkbaP4"
   },
   "outputs": [],
   "source": [
    "cap = cv2.VideoCapture('./y2mate.com - Real Madrid vs FC Barcelona 4K50fps 21112015 04 La Liga_1080pFHR_1.mp4')\n",
    "Width = int(cap.get(3))\n",
    "Height = int(cap.get(4))\n",
    "out_vid = cv2.VideoWriter('./final_output2.avi',cv2.VideoWriter_fourcc('M','J','P','G'), cap.get(cv2.CAP_PROP_FPS), (Width,Height))\n",
    "if (cap.isOpened()== False):\n",
    "  print(\"Error opening video stream or file\")\n",
    "scale = 0.00392\n",
    "frame_count = 0\n",
    "total_frames = int(cap.get(cv2.CAP_PROP_FRAME_COUNT))\n",
    "# Read until video is completed\n",
    "while(cap.isOpened()):\n",
    "    # Capture frame-by-frame\n",
    "    ret, image = cap.read()\n",
    "    if not ret:\n",
    "      break\n",
    "    blob = cv2.dnn.blobFromImage(image, scale, (416,416), (0,0,0), True, crop=False)\n",
    "    net.setInput(blob)\n",
    "    outs = net.forward(get_output_layers(net))\n",
    "    class_ids = []\n",
    "    confidences = []\n",
    "    boxes = []\n",
    "    conf_threshold = 0.5\n",
    "    nms_threshold = 0.4\n",
    "    for out in outs:\n",
    "        for detection in out:\n",
    "            scores = detection[5:]\n",
    "            class_id = np.argmax(scores)\n",
    "            if class_id == 0 or class_id==32:\n",
    "                confidence = scores[class_id]\n",
    "                if confidence > 0.5:\n",
    "                    center_x = int(detection[0] * Width)\n",
    "                    center_y = int(detection[1] * Height)\n",
    "                    w = int(detection[2] * Width)\n",
    "                    h = int(detection[3] * Height)\n",
    "                    x = center_x - w / 2\n",
    "                    y = center_y - h / 2\n",
    "                    class_ids.append(class_id)\n",
    "                    confidences.append(float(confidence))\n",
    "                    boxes.append([x, y, w, h])\n",
    "                    class_ids.append(class_id)\n",
    "        indices = cv2.dnn.NMSBoxes(boxes, confidences, conf_threshold, nms_threshold)\n",
    "    player_num = 0\n",
    "    for num,i in enumerate(indices):\n",
    "        player_num+=1\n",
    "        i = i[0]\n",
    "        box = boxes[i]\n",
    "        x = max(0,box[0])\n",
    "        y = max(0,box[1])\n",
    "        w = box[2]\n",
    "        h = box[3]\n",
    "        detected_player = image[round(y):round(y+h), round(x):round(x+w)]\n",
    "        if class_ids[num]==0:\n",
    "          if w>5 and h>5 and x>=0 and y>=0:\n",
    "              id = predict_image(detected_player.copy())\n",
    "              player_id = find_box_and_predict_digit(detected_player)\n",
    "              draw_prediction(image, id, confidences[i], round(x), round(y), round(x+w), round(y+h), player_id)\n",
    "          else:\n",
    "            print(x,y,w,h)\n",
    "        else:\n",
    "          id=5\n",
    "          draw_prediction(image, id, confidences[i], round(x), round(y), round(x+w), round(y+h))\n",
    "    # # show ouput frame by frame\n",
    "    cv2_imshow(image)\n",
    "    out_vid.write(image)\n",
    "    if frame_count%10==0:\n",
    "        print(f'frames done {frame_count}/{total_frames}')\n",
    "    frame_count+=1\n",
    "    if frame_count>2:\n",
    "      break\n",
    "\n",
    "cap.release()\n",
    "out_vid.release()"
   ]
  },
  {
   "cell_type": "code",
   "execution_count": null,
   "metadata": {
    "id": "I2lp-hp5ZosP"
   },
   "outputs": [],
   "source": []
  }
 ],
 "metadata": {
  "accelerator": "GPU",
  "colab": {
   "collapsed_sections": [],
   "name": "footballPlayerTracking.ipynb",
   "provenance": []
  },
  "kernelspec": {
   "display_name": "Python 3",
   "language": "python",
   "name": "python3"
  },
  "language_info": {
   "codemirror_mode": {
    "name": "ipython",
    "version": 3
   },
   "file_extension": ".py",
   "mimetype": "text/x-python",
   "name": "python",
   "nbconvert_exporter": "python",
   "pygments_lexer": "ipython3",
   "version": "3.9.5"
  }
 },
 "nbformat": 4,
 "nbformat_minor": 1
}
